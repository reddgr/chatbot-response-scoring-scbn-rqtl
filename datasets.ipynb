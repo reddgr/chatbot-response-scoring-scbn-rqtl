{
 "cells": [
  {
   "cell_type": "markdown",
   "metadata": {},
   "source": [
    "This notebook downloads raw conversations and votes data from the official LMSYS Chatbot Arena repository on HuggingFace."
   ]
  },
  {
   "cell_type": "code",
   "execution_count": 18,
   "metadata": {},
   "outputs": [],
   "source": [
    "import os\n",
    "from datasets import load_dataset\n",
    "from dotenv import load_dotenv\n",
    "import textwrap"
   ]
  },
  {
   "cell_type": "markdown",
   "metadata": {},
   "source": [
    "HuggingFace token required for using lmsys/lmsys-chat-1m dataset:"
   ]
  },
  {
   "cell_type": "code",
   "execution_count": 15,
   "metadata": {},
   "outputs": [
    {
     "name": "stdout",
     "output_type": "stream",
     "text": [
      "Token: hf_B*****************************PHte\n"
     ]
    }
   ],
   "source": [
    "'''\n",
    "dotenv file should contain:\n",
    "HF_TOKEN=\"YOURHFTOKEN\"\n",
    "'''\n",
    "load_dotenv(\"C:/apis/.env\") # path to your dotenv file\n",
    "hf_token = os.getenv(\"HF_TOKEN\")\n",
    "unmasked_chars = 4\n",
    "masked_token = hf_token[:unmasked_chars] + '*' * (len(hf_token) - unmasked_chars*2) + hf_token[-unmasked_chars:]\n",
    "print(f\"Token: {masked_token}\")"
   ]
  },
  {
   "cell_type": "markdown",
   "metadata": {},
   "source": [
    "Downloads the dataset (2.44 GB as of August 2024)"
   ]
  },
  {
   "cell_type": "code",
   "execution_count": 33,
   "metadata": {},
   "outputs": [
    {
     "name": "stdout",
     "output_type": "stream",
     "text": [
      "DatasetDict({\n",
      "    train: Dataset({\n",
      "        features: ['conversation_id', 'model', 'conversation', 'turn', 'language', 'openai_moderation', 'redacted'],\n",
      "        num_rows: 1000000\n",
      "    })\n",
      "})\n"
     ]
    }
   ],
   "source": [
    "dataset = load_dataset(\n",
    "  'lmsys/lmsys-chat-1m',\n",
    "  revision=\"main\",\n",
    "  token=hf_token\n",
    ")\n",
    "print(dataset)"
   ]
  },
  {
   "cell_type": "code",
   "execution_count": 10,
   "metadata": {},
   "outputs": [
    {
     "name": "stdout",
     "output_type": "stream",
     "text": [
      "\n",
      "Sample data:\n"
     ]
    },
    {
     "data": {
      "text/html": [
       "<div>\n",
       "<style scoped>\n",
       "    .dataframe tbody tr th:only-of-type {\n",
       "        vertical-align: middle;\n",
       "    }\n",
       "\n",
       "    .dataframe tbody tr th {\n",
       "        vertical-align: top;\n",
       "    }\n",
       "\n",
       "    .dataframe thead th {\n",
       "        text-align: right;\n",
       "    }\n",
       "</style>\n",
       "<table border=\"1\" class=\"dataframe\">\n",
       "  <thead>\n",
       "    <tr style=\"text-align: right;\">\n",
       "      <th></th>\n",
       "      <th>conversation_id</th>\n",
       "      <th>model</th>\n",
       "      <th>conversation</th>\n",
       "      <th>turn</th>\n",
       "      <th>language</th>\n",
       "      <th>openai_moderation</th>\n",
       "      <th>redacted</th>\n",
       "    </tr>\n",
       "  </thead>\n",
       "  <tbody>\n",
       "    <tr>\n",
       "      <th>467254</th>\n",
       "      <td>f57ad42158ac407e9ce8147bd219262f</td>\n",
       "      <td>chatglm-6b</td>\n",
       "      <td>[{'content': 'Generate a skeleton for a multif...</td>\n",
       "      <td>3</td>\n",
       "      <td>English</td>\n",
       "      <td>[{'categories': {'harassment': False, 'harassm...</td>\n",
       "      <td>False</td>\n",
       "    </tr>\n",
       "    <tr>\n",
       "      <th>491720</th>\n",
       "      <td>03d0ed35909e46fab341c292ec6e92d5</td>\n",
       "      <td>mpt-30b-chat</td>\n",
       "      <td>[{'content': 'Please correct the grammar in th...</td>\n",
       "      <td>4</td>\n",
       "      <td>English</td>\n",
       "      <td>[{'categories': {'harassment': False, 'harassm...</td>\n",
       "      <td>True</td>\n",
       "    </tr>\n",
       "    <tr>\n",
       "      <th>621380</th>\n",
       "      <td>2e252b44e0324e92b71d86740d536f75</td>\n",
       "      <td>vicuna-33b</td>\n",
       "      <td>[{'content': 'Describe how a cyberpuk android ...</td>\n",
       "      <td>1</td>\n",
       "      <td>English</td>\n",
       "      <td>[{'categories': {'harassment': False, 'harassm...</td>\n",
       "      <td>True</td>\n",
       "    </tr>\n",
       "  </tbody>\n",
       "</table>\n",
       "</div>"
      ],
      "text/plain": [
       "                         conversation_id         model  \\\n",
       "467254  f57ad42158ac407e9ce8147bd219262f    chatglm-6b   \n",
       "491720  03d0ed35909e46fab341c292ec6e92d5  mpt-30b-chat   \n",
       "621380  2e252b44e0324e92b71d86740d536f75    vicuna-33b   \n",
       "\n",
       "                                             conversation  turn language  \\\n",
       "467254  [{'content': 'Generate a skeleton for a multif...     3  English   \n",
       "491720  [{'content': 'Please correct the grammar in th...     4  English   \n",
       "621380  [{'content': 'Describe how a cyberpuk android ...     1  English   \n",
       "\n",
       "                                        openai_moderation  redacted  \n",
       "467254  [{'categories': {'harassment': False, 'harassm...     False  \n",
       "491720  [{'categories': {'harassment': False, 'harassm...      True  \n",
       "621380  [{'categories': {'harassment': False, 'harassm...      True  "
      ]
     },
     "metadata": {},
     "output_type": "display_data"
    }
   ],
   "source": [
    "print(\"\\nSample data:\")\n",
    "display(dataset['train'].to_pandas().sample(n=3))"
   ]
  },
  {
   "cell_type": "code",
   "execution_count": 34,
   "metadata": {},
   "outputs": [
    {
     "name": "stdout",
     "output_type": "stream",
     "text": [
      "\n",
      "Sample conversation:\n",
      "[{'content': 'who did i write to', 'role': 'user'}\n",
      " {'content': 'I apologize, but I do not have any information about who you wrote to. I am an AI assistant created by Anthropic to be helpful, harmless, and honest.', 'role': 'assistant'}]\n"
     ]
    }
   ],
   "source": [
    "print(\"\\nSample conversation:\")\n",
    "random_sample = dataset['train'].to_pandas().sample(n=1)\n",
    "conversation = random_sample['conversation'].values[0]\n",
    "print(conversation)"
   ]
  },
  {
   "cell_type": "code",
   "execution_count": 57,
   "metadata": {},
   "outputs": [
    {
     "name": "stdout",
     "output_type": "stream",
     "text": [
      "Data is cached at:\n",
      "\n",
      "Filename: C:\\Users\\david\\.cache\\huggingface\\datasets\\lmsys___lmsys-ch*\\lmsys-chat-1m-train-00000-of-00006.arrow\n",
      "Size: 501562824 bytes\n",
      "Filename: C:\\Users\\david\\.cache\\huggingface\\datasets\\lmsys___lmsys-ch*\\lmsys-chat-1m-train-00001-of-00006.arrow\n",
      "Size: 499323288 bytes\n",
      "Filename: C:\\Users\\david\\.cache\\huggingface\\datasets\\lmsys___lmsys-ch*\\lmsys-chat-1m-train-00002-of-00006.arrow\n",
      "Size: 501365960 bytes\n",
      "Filename: C:\\Users\\david\\.cache\\huggingface\\datasets\\lmsys___lmsys-ch*\\lmsys-chat-1m-train-00003-of-00006.arrow\n",
      "Size: 499767784 bytes\n",
      "Filename: C:\\Users\\david\\.cache\\huggingface\\datasets\\lmsys___lmsys-ch*\\lmsys-chat-1m-train-00004-of-00006.arrow\n",
      "Size: 499761448 bytes\n",
      "Filename: C:\\Users\\david\\.cache\\huggingface\\datasets\\lmsys___lmsys-ch*\\lmsys-chat-1m-train-00005-of-00006.arrow\n",
      "Size: 126642696 bytes\n"
     ]
    }
   ],
   "source": [
    "print('Data is cached at:\\n')\n",
    "for file_info in dataset['train'].cache_files:\n",
    "    filename = file_info['filename']\n",
    "    file_size = os.path.getsize(filename)\n",
    "    i = int((len(filename) - 41)/2) # Just arbitrarily trimming the path before printing it\n",
    "    print(f\"Filename: {filename[:i]}*{filename[-41:]}\\nSize: {file_size} bytes\")"
   ]
  }
 ],
 "metadata": {
  "kernelspec": {
   "display_name": "base",
   "language": "python",
   "name": "python3"
  },
  "language_info": {
   "codemirror_mode": {
    "name": "ipython",
    "version": 3
   },
   "file_extension": ".py",
   "mimetype": "text/x-python",
   "name": "python",
   "nbconvert_exporter": "python",
   "pygments_lexer": "ipython3",
   "version": "3.11.5"
  }
 },
 "nbformat": 4,
 "nbformat_minor": 2
}
