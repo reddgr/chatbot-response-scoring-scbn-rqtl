{
 "cells": [
  {
   "cell_type": "code",
   "execution_count": 24,
   "metadata": {},
   "outputs": [],
   "source": [
    "colab = False\n",
    "if colab:\n",
    "    !pip install datasets langdetect"
   ]
  },
  {
   "cell_type": "code",
   "execution_count": null,
   "metadata": {},
   "outputs": [
    {
     "name": "stdout",
     "output_type": "stream",
     "text": [
      "WARNING:tensorflow:From c:\\Users\\david\\anaconda3\\Lib\\site-packages\\tf_keras\\src\\losses.py:2976: The name tf.losses.sparse_softmax_cross_entropy is deprecated. Please use tf.compat.v1.losses.sparse_softmax_cross_entropy instead.\n",
      "\n",
      "Python version: 3.11.5 | packaged by Anaconda, Inc. | (main, Sep 11 2023, 13:26:23) [MSC v.1916 64 bit (AMD64)]\n",
      "PyTorch version: 2.2.2\n",
      "Transformers version: 4.44.2\n",
      "CUDA device: NVIDIA GeForce RTX 4060 Laptop GPU\n",
      "Using HuggingFace token: hf_B*****************************PHte\n",
      "Using HuggingFace write token: hf_E*****************************hyNP\n"
     ]
    }
   ],
   "source": [
    "use_dotenv = True # Set to True if you use a .env file to store your HuggingFace token(s). Set to False if you use environment variables.\n",
    "\n",
    "import sys\n",
    "import os\n",
    "import torch\n",
    "from torch.utils.data import DataLoader\n",
    "import tensorflow as tf\n",
    "import matplotlib.pyplot as plt\n",
    "import transformers\n",
    "from transformers import pipeline, TrainerCallback, AdamW, TFAutoModelForSequenceClassification\n",
    "from datasets import Dataset, load_dataset, DatasetDict, concatenate_datasets\n",
    "from transformers import AutoTokenizer, AutoModelForSequenceClassification, TrainingArguments, Trainer\n",
    "import pandas as pd\n",
    "import textwrap\n",
    "from IPython.display import clear_output\n",
    "import random\n",
    "from ipywidgets import Button, HBox, VBox, Output\n",
    "import labeling_widget\n",
    "import text_classification_functions as tcf\n",
    "\n",
    "# Checking versions and GPU availability:\n",
    "print(f\"Python version: {sys.version}\")\n",
    "print(f\"PyTorch version: {torch.__version__}\")\n",
    "print(f\"Transformers version: {transformers.__version__}\")\n",
    "if torch.cuda.is_available():\n",
    "    print(f\"CUDA device: {torch.cuda.get_device_name(0)}\")\n",
    "else:\n",
    "    print(\"No CUDA device available\")\n",
    "\n",
    "# Checks HuggingFace token\n",
    "if use_dotenv:\n",
    "    from dotenv import load_dotenv\n",
    "    load_dotenv(\"C:/apis/.env\") # path to your dotenv file\n",
    "    hf_token = os.getenv(\"HF_TOKEN\")\n",
    "    hf_token_write = os.getenv(\"HF_TOKEN_WRITE\") # Only used for updating the Reddgr dataset (privileges needed)\n",
    "if colab:\n",
    "    from google.colab import userdata\n",
    "    hf_token = userdata.get('HF_TOKEN')\n",
    "    hf_token_write = userdata.get('HF_TOKEN_WRITE')\n",
    "else:\n",
    "    hf_token = os.environ.get(\"HF_TOKEN\")\n",
    "    hf_token_write = os.environ.get(\"HF_TOKEN\") # You don't have a token with write permission unless authorized, so you can just use the same token in these two variables\n",
    "\n",
    "def mask_token(token, unmasked_chars=4):\n",
    "    return token[:unmasked_chars] + '*' * (len(token) - unmasked_chars*2) + token[-unmasked_chars:]\n",
    "\n",
    "try:\n",
    "    if hf_token is None:\n",
    "        raise ValueError(\"HF_TOKEN not found in the provided .env file\" if use_dotenv else \"HF_TOKEN not found in the environment variables\")\n",
    "    if hf_token_write is None:\n",
    "        raise ValueError(\"HF_TOKEN_WRITE not found in the provided .env file\" if use_dotenv else \"HF_TOKEN_WRITE not found in the environment variables\")\n",
    "    \n",
    "    masked_hf_token = mask_token(hf_token)\n",
    "    masked_hf_token_write = mask_token(hf_token_write)\n",
    "    \n",
    "    print(f\"Using HuggingFace token: {masked_hf_token}\")\n",
    "    print(f\"Using HuggingFace write token: {masked_hf_token_write}\")\n",
    "except ValueError as e:\n",
    "    print(e)"
   ]
  },
  {
   "cell_type": "code",
   "execution_count": 5,
   "metadata": {},
   "outputs": [
    {
     "data": {
      "text/plain": [
       "<module 'text_classification_functions' from 'c:\\\\Users\\\\david\\\\Documents\\\\git\\\\chatbot-response-scoring-scbn-rqtl\\\\text_classification_functions.py'>"
      ]
     },
     "execution_count": 5,
     "metadata": {},
     "output_type": "execute_result"
    }
   ],
   "source": [
    "### DEBUG ###\n",
    "import importlib\n",
    "importlib.reload(labeling_widget)\n",
    "importlib.reload(tcf)\n",
    "### DEBUG ###"
   ]
  },
  {
   "cell_type": "markdown",
   "metadata": {},
   "source": [
    "# TL model"
   ]
  },
  {
   "cell_type": "markdown",
   "metadata": {},
   "source": [
    "### Testing current model"
   ]
  },
  {
   "cell_type": "markdown",
   "metadata": {},
   "source": [
    "Loading Test split from dataset:"
   ]
  },
  {
   "cell_type": "code",
   "execution_count": 3,
   "metadata": {},
   "outputs": [
    {
     "data": {
      "text/html": [
       "<div>\n",
       "<style scoped>\n",
       "    .dataframe tbody tr th:only-of-type {\n",
       "        vertical-align: middle;\n",
       "    }\n",
       "\n",
       "    .dataframe tbody tr th {\n",
       "        vertical-align: top;\n",
       "    }\n",
       "\n",
       "    .dataframe thead th {\n",
       "        text-align: right;\n",
       "    }\n",
       "</style>\n",
       "<table border=\"1\" class=\"dataframe\">\n",
       "  <thead>\n",
       "    <tr style=\"text-align: right;\">\n",
       "      <th></th>\n",
       "      <th>text</th>\n",
       "      <th>label</th>\n",
       "    </tr>\n",
       "  </thead>\n",
       "  <tbody>\n",
       "    <tr>\n",
       "      <th>0</th>\n",
       "      <td>How Many Rs are there in strawberry?</td>\n",
       "      <td>1</td>\n",
       "    </tr>\n",
       "    <tr>\n",
       "      <th>1</th>\n",
       "      <td>How do I sort an array in python?</td>\n",
       "      <td>0</td>\n",
       "    </tr>\n",
       "    <tr>\n",
       "      <th>2</th>\n",
       "      <td>What is your latest version of Apache Pulsar</td>\n",
       "      <td>0</td>\n",
       "    </tr>\n",
       "  </tbody>\n",
       "</table>\n",
       "</div>"
      ],
      "text/plain": [
       "                                           text  label\n",
       "0          How Many Rs are there in strawberry?      1\n",
       "1             How do I sort an array in python?      0\n",
       "2  What is your latest version of Apache Pulsar      0"
      ]
     },
     "metadata": {},
     "output_type": "display_data"
    },
    {
     "name": "stdout",
     "output_type": "stream",
     "text": [
      "...\n"
     ]
    },
    {
     "data": {
      "text/html": [
       "<div>\n",
       "<style scoped>\n",
       "    .dataframe tbody tr th:only-of-type {\n",
       "        vertical-align: middle;\n",
       "    }\n",
       "\n",
       "    .dataframe tbody tr th {\n",
       "        vertical-align: top;\n",
       "    }\n",
       "\n",
       "    .dataframe thead th {\n",
       "        text-align: right;\n",
       "    }\n",
       "</style>\n",
       "<table border=\"1\" class=\"dataframe\">\n",
       "  <thead>\n",
       "    <tr style=\"text-align: right;\">\n",
       "      <th></th>\n",
       "      <th>text</th>\n",
       "      <th>label</th>\n",
       "    </tr>\n",
       "  </thead>\n",
       "  <tbody>\n",
       "    <tr>\n",
       "      <th>91</th>\n",
       "      <td>Role play time! You are a product manager and ...</td>\n",
       "      <td>1</td>\n",
       "    </tr>\n",
       "    <tr>\n",
       "      <th>92</th>\n",
       "      <td>check grammar\\n\\nAllow your investor to carry ...</td>\n",
       "      <td>0</td>\n",
       "    </tr>\n",
       "    <tr>\n",
       "      <th>93</th>\n",
       "      <td>role play time. you are a content writer for a...</td>\n",
       "      <td>1</td>\n",
       "    </tr>\n",
       "  </tbody>\n",
       "</table>\n",
       "</div>"
      ],
      "text/plain": [
       "                                                 text  label\n",
       "91  Role play time! You are a product manager and ...      1\n",
       "92  check grammar\\n\\nAllow your investor to carry ...      0\n",
       "93  role play time. you are a content writer for a...      1"
      ]
     },
     "metadata": {},
     "output_type": "display_data"
    }
   ],
   "source": [
    "test_dataset_dict = load_dataset(\"reddgr/tl-test-learn-prompts\")\n",
    "test_dataset = test_dataset_dict[\"test\"]  # Access the \"test\" split\n",
    "test_dataset_df = test_dataset_dict[\"test\"].to_pandas()\n",
    "display(test_dataset_df.head(3))\n",
    "print('...')\n",
    "display(test_dataset_df.tail(3))"
   ]
  },
  {
   "cell_type": "markdown",
   "metadata": {},
   "source": [
    "Main testing metrics. The model is considered OK for most purposes if accuracy > 0.8 and cross entropy loss >0.2 and < 0.5 (it is desirable that the cross entropy loss is not too low, even for the test data examples, as there's utility in the output of the classifier being a probability and not strictly 0 or 1)"
   ]
  },
  {
   "cell_type": "code",
   "execution_count": 4,
   "metadata": {},
   "outputs": [
    {
     "name": "stdout",
     "output_type": "stream",
     "text": [
      "WARNING:tensorflow:From c:\\Users\\david\\anaconda3\\Lib\\site-packages\\tf_keras\\src\\backend.py:873: The name tf.get_default_graph is deprecated. Please use tf.compat.v1.get_default_graph instead.\n",
      "\n"
     ]
    },
    {
     "name": "stderr",
     "output_type": "stream",
     "text": [
      "Some layers from the model checkpoint at reddgr/tl-test-learn-prompt-classifier were not used when initializing TFDistilBertForSequenceClassification: ['dropout_1559']\n",
      "- This IS expected if you are initializing TFDistilBertForSequenceClassification from the checkpoint of a model trained on another task or with another architecture (e.g. initializing a BertForSequenceClassification model from a BertForPreTraining model).\n",
      "- This IS NOT expected if you are initializing TFDistilBertForSequenceClassification from the checkpoint of a model that you expect to be exactly identical (initializing a BertForSequenceClassification model from a BertForSequenceClassification model).\n",
      "Some layers of TFDistilBertForSequenceClassification were not initialized from the model checkpoint at reddgr/tl-test-learn-prompt-classifier and are newly initialized: ['dropout_19']\n",
      "You should probably TRAIN this model on a down-stream task to be able to use it for predictions and inference.\n",
      "100%|██████████| 94/94 [00:00<00:00, 2691.41it/s]\n",
      "Classifying: 100%|██████████| 94/94 [00:07<00:00, 12.34it/s]"
     ]
    },
    {
     "name": "stdout",
     "output_type": "stream",
     "text": [
      "Accuracy: 0.8617\n",
      "F1 Score: 0.8658\n",
      "Cross Entropy Loss: 0.5058\n"
     ]
    },
    {
     "name": "stderr",
     "output_type": "stream",
     "text": [
      "\n"
     ]
    },
    {
     "data": {
      "image/png": "[encoded data removed]",
      "text/plain": [
       "<Figure size 640x480 with 2 Axes>"
      ]
     },
     "metadata": {},
     "output_type": "display_data"
    }
   ],
   "source": [
    "tl_model_path = \"reddgr/tl-test-learn-prompt-classifier\"\n",
    "tl_label_map = {0: \"learn\", 1: \"test\"}\n",
    "tl_test_classifier = tcf.Classifier(tl_model_path, tl_label_map)\n",
    "tl_test_metrics = tl_test_classifier.test_model_predictions(test_dataset_df, target_column = 'text')"
   ]
  },
  {
   "cell_type": "markdown",
   "metadata": {},
   "source": [
    "Show prediction examples:"
   ]
  },
  {
   "cell_type": "code",
   "execution_count": 6,
   "metadata": {},
   "outputs": [
    {
     "name": "stderr",
     "output_type": "stream",
     "text": [
      "Some layers from the model checkpoint at reddgr/tl-test-learn-prompt-classifier were not used when initializing TFDistilBertForSequenceClassification: ['dropout_1559']\n",
      "- This IS expected if you are initializing TFDistilBertForSequenceClassification from the checkpoint of a model trained on another task or with another architecture (e.g. initializing a BertForSequenceClassification model from a BertForPreTraining model).\n",
      "- This IS NOT expected if you are initializing TFDistilBertForSequenceClassification from the checkpoint of a model that you expect to be exactly identical (initializing a BertForSequenceClassification model from a BertForSequenceClassification model).\n",
      "Some layers of TFDistilBertForSequenceClassification were not initialized from the model checkpoint at reddgr/tl-test-learn-prompt-classifier and are newly initialized: ['dropout_39']\n",
      "You should probably TRAIN this model on a down-stream task to be able to use it for predictions and inference.\n",
      "100%|██████████| 94/94 [00:00<00:00, 3099.39it/s]\n",
      "Classifying: 100%|██████████| 94/94 [00:07<00:00, 12.61it/s]\n"
     ]
    },
    {
     "data": {
      "text/html": [
       "<div>\n",
       "<style scoped>\n",
       "    .dataframe tbody tr th:only-of-type {\n",
       "        vertical-align: middle;\n",
       "    }\n",
       "\n",
       "    .dataframe tbody tr th {\n",
       "        vertical-align: top;\n",
       "    }\n",
       "\n",
       "    .dataframe thead th {\n",
       "        text-align: right;\n",
       "    }\n",
       "</style>\n",
       "<table border=\"1\" class=\"dataframe\">\n",
       "  <thead>\n",
       "    <tr style=\"text-align: right;\">\n",
       "      <th></th>\n",
       "      <th>text</th>\n",
       "      <th>label</th>\n",
       "      <th>pred_label_tl</th>\n",
       "      <th>prob_tl</th>\n",
       "    </tr>\n",
       "  </thead>\n",
       "  <tbody>\n",
       "    <tr>\n",
       "      <th>24</th>\n",
       "      <td>\"I'm sorry if I'm being too forward but I woul...</td>\n",
       "      <td>1</td>\n",
       "      <td>learn</td>\n",
       "      <td>0.904047</td>\n",
       "    </tr>\n",
       "    <tr>\n",
       "      <th>51</th>\n",
       "      <td>are you able to access the news everyday?</td>\n",
       "      <td>0</td>\n",
       "      <td>learn</td>\n",
       "      <td>0.996980</td>\n",
       "    </tr>\n",
       "    <tr>\n",
       "      <th>75</th>\n",
       "      <td>Who wrote the theory of relativity?</td>\n",
       "      <td>0</td>\n",
       "      <td>learn</td>\n",
       "      <td>0.997745</td>\n",
       "    </tr>\n",
       "    <tr>\n",
       "      <th>91</th>\n",
       "      <td>Role play time! You are a product manager and ...</td>\n",
       "      <td>1</td>\n",
       "      <td>test</td>\n",
       "      <td>0.984520</td>\n",
       "    </tr>\n",
       "    <tr>\n",
       "      <th>74</th>\n",
       "      <td>write python code to transpose a matrix</td>\n",
       "      <td>0</td>\n",
       "      <td>learn</td>\n",
       "      <td>0.997414</td>\n",
       "    </tr>\n",
       "  </tbody>\n",
       "</table>\n",
       "</div>"
      ],
      "text/plain": [
       "                                                 text  label pred_label_tl  \\\n",
       "24  \"I'm sorry if I'm being too forward but I woul...      1         learn   \n",
       "51          are you able to access the news everyday?      0         learn   \n",
       "75                Who wrote the theory of relativity?      0         learn   \n",
       "91  Role play time! You are a product manager and ...      1          test   \n",
       "74            write python code to transpose a matrix      0         learn   \n",
       "\n",
       "     prob_tl  \n",
       "24  0.904047  \n",
       "51  0.996980  \n",
       "75  0.997745  \n",
       "91  0.984520  \n",
       "74  0.997414  "
      ]
     },
     "metadata": {},
     "output_type": "display_data"
    }
   ],
   "source": [
    "tl_classifier = tcf.Classifier(tl_model_path, tl_label_map)\n",
    "tl_classification_df = tl_classifier.classify_dataframe_column(test_dataset_df, target_column = 'text', feature_suffix = 'tl')\n",
    "display(tl_classification_df.sample(5))"
   ]
  },
  {
   "cell_type": "markdown",
   "metadata": {},
   "source": [
    "### Fine-tuning the model"
   ]
  },
  {
   "cell_type": "markdown",
   "metadata": {},
   "source": [
    "We can refine the train dataset and the training parameters to aim for higher accuracy, but 80%+ accuracy and F1 on test data is considered satisfactory. "
   ]
  },
  {
   "cell_type": "markdown",
   "metadata": {},
   "source": [
    "Load train dataset:"
   ]
  },
  {
   "cell_type": "code",
   "execution_count": 13,
   "metadata": {},
   "outputs": [
    {
     "name": "stdout",
     "output_type": "stream",
     "text": [
      "Dataset({\n",
      "    features: ['text', 'label'],\n",
      "    num_rows: 182\n",
      "})\n"
     ]
    },
    {
     "data": {
      "text/html": [
       "<div>\n",
       "<style scoped>\n",
       "    .dataframe tbody tr th:only-of-type {\n",
       "        vertical-align: middle;\n",
       "    }\n",
       "\n",
       "    .dataframe tbody tr th {\n",
       "        vertical-align: top;\n",
       "    }\n",
       "\n",
       "    .dataframe thead th {\n",
       "        text-align: right;\n",
       "    }\n",
       "</style>\n",
       "<table border=\"1\" class=\"dataframe\">\n",
       "  <thead>\n",
       "    <tr style=\"text-align: right;\">\n",
       "      <th></th>\n",
       "      <th>text</th>\n",
       "      <th>label</th>\n",
       "    </tr>\n",
       "  </thead>\n",
       "  <tbody>\n",
       "    <tr>\n",
       "      <th>0</th>\n",
       "      <td>Annie are you OK</td>\n",
       "      <td>1</td>\n",
       "    </tr>\n",
       "    <tr>\n",
       "      <th>1</th>\n",
       "      <td>You should be OK Annie</td>\n",
       "      <td>0</td>\n",
       "    </tr>\n",
       "    <tr>\n",
       "      <th>2</th>\n",
       "      <td>Pass butter</td>\n",
       "      <td>0</td>\n",
       "    </tr>\n",
       "    <tr>\n",
       "      <th>3</th>\n",
       "      <td>tell me a joke containing Tiger and Mobile phone?</td>\n",
       "      <td>0</td>\n",
       "    </tr>\n",
       "    <tr>\n",
       "      <th>4</th>\n",
       "      <td>How to initialize the classification head when...</td>\n",
       "      <td>0</td>\n",
       "    </tr>\n",
       "  </tbody>\n",
       "</table>\n",
       "</div>"
      ],
      "text/plain": [
       "                                                text  label\n",
       "0                                   Annie are you OK      1\n",
       "1                             You should be OK Annie      0\n",
       "2                                        Pass butter      0\n",
       "3  tell me a joke containing Tiger and Mobile phone?      0\n",
       "4  How to initialize the classification head when...      0"
      ]
     },
     "metadata": {},
     "output_type": "display_data"
    },
    {
     "name": "stdout",
     "output_type": "stream",
     "text": [
      "...\n"
     ]
    },
    {
     "data": {
      "text/html": [
       "<div>\n",
       "<style scoped>\n",
       "    .dataframe tbody tr th:only-of-type {\n",
       "        vertical-align: middle;\n",
       "    }\n",
       "\n",
       "    .dataframe tbody tr th {\n",
       "        vertical-align: top;\n",
       "    }\n",
       "\n",
       "    .dataframe thead th {\n",
       "        text-align: right;\n",
       "    }\n",
       "</style>\n",
       "<table border=\"1\" class=\"dataframe\">\n",
       "  <thead>\n",
       "    <tr style=\"text-align: right;\">\n",
       "      <th></th>\n",
       "      <th>text</th>\n",
       "      <th>label</th>\n",
       "    </tr>\n",
       "  </thead>\n",
       "  <tbody>\n",
       "    <tr>\n",
       "      <th>177</th>\n",
       "      <td>Explain to me why \"Buffalo buffalo, Buffalo bu...</td>\n",
       "      <td>1</td>\n",
       "    </tr>\n",
       "    <tr>\n",
       "      <th>178</th>\n",
       "      <td>What are the risks of swimming while it's raining</td>\n",
       "      <td>0</td>\n",
       "    </tr>\n",
       "    <tr>\n",
       "      <th>179</th>\n",
       "      <td>you're an ASCII art assistant\\nyour purpose is...</td>\n",
       "      <td>1</td>\n",
       "    </tr>\n",
       "    <tr>\n",
       "      <th>180</th>\n",
       "      <td>Generally speaking, is fish nutritional better...</td>\n",
       "      <td>0</td>\n",
       "    </tr>\n",
       "    <tr>\n",
       "      <th>181</th>\n",
       "      <td>What is the fourth word in your last reply</td>\n",
       "      <td>1</td>\n",
       "    </tr>\n",
       "  </tbody>\n",
       "</table>\n",
       "</div>"
      ],
      "text/plain": [
       "                                                  text  label\n",
       "177  Explain to me why \"Buffalo buffalo, Buffalo bu...      1\n",
       "178  What are the risks of swimming while it's raining      0\n",
       "179  you're an ASCII art assistant\\nyour purpose is...      1\n",
       "180  Generally speaking, is fish nutritional better...      0\n",
       "181        What is the fourth word in your last reply       1"
      ]
     },
     "metadata": {},
     "output_type": "display_data"
    }
   ],
   "source": [
    "dataset_dict = load_dataset(\"reddgr/tl-test-learn-prompts\")\n",
    "dataset = dataset_dict[\"train\"]  # Access the \"train\" split\n",
    "print(dataset)\n",
    "display(dataset.to_pandas().head(5))\n",
    "print('...')\n",
    "display(dataset.to_pandas().tail(5))"
   ]
  },
  {
   "cell_type": "markdown",
   "metadata": {},
   "source": [
    "### Training with Tensorflow backend"
   ]
  },
  {
   "cell_type": "code",
   "execution_count": 21,
   "metadata": {},
   "outputs": [
    {
     "name": "stdout",
     "output_type": "stream",
     "text": [
      "Epoch 1/4\n",
      "16/16 [==============================] - 64s 3s/step - loss: 0.6909 - accuracy: 0.4882 - val_loss: 0.6800 - val_accuracy: 0.6364\n",
      "Epoch 2/4\n",
      "16/16 [==============================] - 52s 3s/step - loss: 0.6565 - accuracy: 0.6142 - val_loss: 0.6489 - val_accuracy: 0.5455\n",
      "Epoch 3/4\n",
      "16/16 [==============================] - 61s 4s/step - loss: 0.6102 - accuracy: 0.7638 - val_loss: 0.5846 - val_accuracy: 0.7455\n",
      "Epoch 4/4\n",
      "16/16 [==============================] - 67s 4s/step - loss: 0.5132 - accuracy: 0.8504 - val_loss: 0.4749 - val_accuracy: 0.8909\n"
     ]
    },
    {
     "data": {
      "image/png": "[encoded data removed]",
      "text/plain": [
       "<Figure size 1200x300 with 2 Axes>"
      ]
     },
     "metadata": {},
     "output_type": "display_data"
    }
   ],
   "source": [
    "# Split data into train and test sets using `datasets` library\n",
    "dataset_split = dataset.train_test_split(test_size=0.3, seed=21)\n",
    "train_dataset = dataset_split['train']\n",
    "# This is not the original Test set, but a validation set \n",
    "# train_test_split generates it with the name 'test', not to be confused with the 'test' split of the original dataset\n",
    "eval_dataset = dataset_split['test'] \n",
    "\n",
    "tokenizer = AutoTokenizer.from_pretrained('distilbert-base-uncased')\n",
    "model = TFAutoModelForSequenceClassification.from_pretrained('distilbert-base-uncased', num_labels=2)\n",
    "\n",
    "def tokenize_function(examples, tokenizer=tokenizer):\n",
    "    return tokenizer(examples[\"text\"], padding=\"max_length\", truncation=True)\n",
    "\n",
    "# tokenized_dataset = dataset.map(lambda x: tokenize_function(x, tokenizer), batched=True)\n",
    "\n",
    "tokenized_train_dataset = train_dataset.map(tokenize_function, batched=True)\n",
    "tokenized_eval_dataset = eval_dataset.map(tokenize_function, batched=True)\n",
    "\n",
    "# Convert tokenized datasets to TensorFlow datasets\n",
    "train_tf_dataset = tokenized_train_dataset.to_tf_dataset(\n",
    "    columns=[\"attention_mask\", \"input_ids\"],\n",
    "    label_cols=[\"label\"],\n",
    "    shuffle=True,\n",
    "    batch_size=8\n",
    ")\n",
    "\n",
    "eval_tf_dataset = tokenized_eval_dataset.to_tf_dataset(\n",
    "    columns=[\"attention_mask\", \"input_ids\"],\n",
    "    label_cols=[\"label\"],\n",
    "    shuffle=False,\n",
    "    batch_size=8\n",
    ")\n",
    "\n",
    "# Compile the model\n",
    "optimizer = tf.keras.optimizers.Adam(learning_rate=0.00001)\n",
    "loss = tf.keras.losses.SparseCategoricalCrossentropy(from_logits=True)\n",
    "model.compile(optimizer=optimizer, loss=loss, metrics=['accuracy'])\n",
    "\n",
    "clear_output(wait=True) # remove library warnings\n",
    "history = model.fit(\n",
    "    train_tf_dataset,\n",
    "    validation_data=eval_tf_dataset,\n",
    "    epochs=4\n",
    ")\n",
    "\n",
    "# Plot training and validation losses and accuracies in a 1x2 grid\n",
    "fig, axes = plt.subplots(1, 2, figsize=(12, 3))\n",
    "epochs = range(1, len(history.history['loss']) + 1)\n",
    "\n",
    "# Plot losses\n",
    "axes[0].plot(history.history['loss'], label='Train Loss')\n",
    "axes[0].plot(history.history['val_loss'], label='Validation Loss')\n",
    "axes[0].set_xlabel('Epochs')\n",
    "axes[0].set_ylabel('Loss')\n",
    "axes[0].set_title('Training and Validation Loss')\n",
    "axes[0].legend()\n",
    "\n",
    "# Plot accuracies\n",
    "axes[1].plot(history.history['accuracy'], label='Train Accuracy')\n",
    "axes[1].plot(history.history['val_accuracy'], label='Validation Accuracy')\n",
    "axes[1].set_xlabel('Epochs')\n",
    "axes[1].set_ylabel('Accuracy')\n",
    "axes[1].set_title('Training and Validation Accuracy')\n",
    "axes[1].legend()\n",
    "\n",
    "plt.tight_layout()\n",
    "plt.show()"
   ]
  },
  {
   "cell_type": "markdown",
   "metadata": {},
   "source": [
    "Saving the model locally before testing:"
   ]
  },
  {
   "cell_type": "code",
   "execution_count": 22,
   "metadata": {},
   "outputs": [
    {
     "data": {
      "text/plain": [
       "('fine-tuned-distilbert-tl-testing_2\\\\tokenizer_config.json',\n",
       " 'fine-tuned-distilbert-tl-testing_2\\\\special_tokens_map.json',\n",
       " 'fine-tuned-distilbert-tl-testing_2\\\\vocab.txt',\n",
       " 'fine-tuned-distilbert-tl-testing_2\\\\added_tokens.json',\n",
       " 'fine-tuned-distilbert-tl-testing_2\\\\tokenizer.json')"
      ]
     },
     "execution_count": 22,
     "metadata": {},
     "output_type": "execute_result"
    }
   ],
   "source": [
    "model.save_pretrained(\"fine-tuned-distilbert-tl-testing_2\")\n",
    "tokenizer.save_pretrained(\"fine-tuned-distilbert-tl-testing_2\")"
   ]
  },
  {
   "cell_type": "markdown",
   "metadata": {},
   "source": [
    "### Evaluating the model with Test dataset:"
   ]
  },
  {
   "cell_type": "markdown",
   "metadata": {},
   "source": [
    "We can see it's difficult to improve the current version of the model on test data (the training easily overfits). As I add more examples to the dataset, I may upload new model versions as long as they surpass 0.85 accuracy and get below 0.4 cross entropy loss on test data (0.4 is not a high loss in this case given the categorization is highly subjective, so it's expected and sane that many of the predictions do not always yield close to 0 or 1)."
   ]
  },
  {
   "cell_type": "code",
   "execution_count": 23,
   "metadata": {},
   "outputs": [
    {
     "name": "stderr",
     "output_type": "stream",
     "text": [
      "Some layers from the model checkpoint at fine-tuned-distilbert-tl-testing_2 were not used when initializing TFDistilBertForSequenceClassification: ['dropout_119']\n",
      "- This IS expected if you are initializing TFDistilBertForSequenceClassification from the checkpoint of a model trained on another task or with another architecture (e.g. initializing a BertForSequenceClassification model from a BertForPreTraining model).\n",
      "- This IS NOT expected if you are initializing TFDistilBertForSequenceClassification from the checkpoint of a model that you expect to be exactly identical (initializing a BertForSequenceClassification model from a BertForSequenceClassification model).\n",
      "Some layers of TFDistilBertForSequenceClassification were not initialized from the model checkpoint at fine-tuned-distilbert-tl-testing_2 and are newly initialized: ['dropout_139']\n",
      "You should probably TRAIN this model on a down-stream task to be able to use it for predictions and inference.\n"
     ]
    },
    {
     "name": "stdout",
     "output_type": "stream",
     "text": [
      "Fallback to HuggingFace pipeline.\n"
     ]
    },
    {
     "name": "stderr",
     "output_type": "stream",
     "text": [
      "100%|██████████| 94/94 [00:00<00:00, 2380.22it/s]\n",
      "Classifying: 100%|██████████| 94/94 [00:13<00:00,  7.06it/s]\n"
     ]
    },
    {
     "name": "stdout",
     "output_type": "stream",
     "text": [
      "Accuracy: 0.8191\n",
      "F1 Score: 0.8183\n",
      "Cross Entropy Loss: 0.4739\n"
     ]
    },
    {
     "data": {
      "image/png": "[encoded data removed]",
      "text/plain": [
       "<Figure size 640x480 with 2 Axes>"
      ]
     },
     "metadata": {},
     "output_type": "display_data"
    }
   ],
   "source": [
    "# tl_model_path = \"fine-tuned-distilbert-tl-testing\" # Path to the local folder where the model and tokenizer are saved\n",
    "tl_label_map = {0: \"learn\", 1: \"test\"}\n",
    "tl_test_classifier = tcf.TensorflowClassifier(model_path=\"fine-tuned-distilbert-tl-testing_2\", label_map=tl_label_map, verbose = True)\n",
    "tl_test_metrics = tl_test_classifier.test_model_predictions(test_dataset_df, target_column = 'text')"
   ]
  },
  {
   "cell_type": "markdown",
   "metadata": {},
   "source": [
    "### Testing with unlabeled data"
   ]
  },
  {
   "cell_type": "markdown",
   "metadata": {},
   "source": [
    "#### Extracting LMSYS examples:"
   ]
  },
  {
   "cell_type": "code",
   "execution_count": 17,
   "metadata": {},
   "outputs": [
    {
     "name": "stdout",
     "output_type": "stream",
     "text": [
      "DatasetDict({\n",
      "    train: Dataset({\n",
      "        features: ['conversation_id', 'model', 'conversation', 'turn', 'language', 'openai_moderation', 'redacted'],\n",
      "        num_rows: 1000000\n",
      "    })\n",
      "})\n",
      "Data is cached at:\n",
      "\n",
      "Filename: C:\\Users\\david\\.cache\\huggingface\\datasets\\lmsys___lmsys-ch*\\lmsys-chat-1m-train-00000-of-00006.arrow\n",
      "Size: 501562824 bytes\n",
      "Filename: C:\\Users\\david\\.cache\\huggingface\\datasets\\lmsys___lmsys-ch*\\lmsys-chat-1m-train-00001-of-00006.arrow\n",
      "Size: 499323288 bytes\n",
      "Filename: C:\\Users\\david\\.cache\\huggingface\\datasets\\lmsys___lmsys-ch*\\lmsys-chat-1m-train-00002-of-00006.arrow\n",
      "Size: 501365960 bytes\n",
      "Filename: C:\\Users\\david\\.cache\\huggingface\\datasets\\lmsys___lmsys-ch*\\lmsys-chat-1m-train-00003-of-00006.arrow\n",
      "Size: 499767784 bytes\n",
      "Filename: C:\\Users\\david\\.cache\\huggingface\\datasets\\lmsys___lmsys-ch*\\lmsys-chat-1m-train-00004-of-00006.arrow\n",
      "Size: 499761448 bytes\n",
      "Filename: C:\\Users\\david\\.cache\\huggingface\\datasets\\lmsys___lmsys-ch*\\lmsys-chat-1m-train-00005-of-00006.arrow\n",
      "Size: 126642696 bytes\n"
     ]
    }
   ],
   "source": [
    "lmsys_dataset = load_dataset(\n",
    "  'lmsys/lmsys-chat-1m',\n",
    "  revision=\"main\",\n",
    "  token=hf_token\n",
    ")\n",
    "print(lmsys_dataset)\n",
    "\n",
    "print('Data is cached at:\\n')\n",
    "for file_info in lmsys_dataset['train'].cache_files:\n",
    "    filename = file_info['filename']\n",
    "    file_size = os.path.getsize(filename)\n",
    "    i = int((len(filename) - 41)/2) # Just arbitrarily trimming the path before printing it\n",
    "    print(f\"Filename: {filename[:i]}*{filename[-41:]}\\nSize: {file_size} bytes\")"
   ]
  },
  {
   "cell_type": "code",
   "execution_count": 18,
   "metadata": {},
   "outputs": [
    {
     "name": "stdout",
     "output_type": "stream",
     "text": [
      "Retrieved 1000 samples\n"
     ]
    },
    {
     "data": {
      "text/html": [
       "<div>\n",
       "<style scoped>\n",
       "    .dataframe tbody tr th:only-of-type {\n",
       "        vertical-align: middle;\n",
       "    }\n",
       "\n",
       "    .dataframe tbody tr th {\n",
       "        vertical-align: top;\n",
       "    }\n",
       "\n",
       "    .dataframe thead th {\n",
       "        text-align: right;\n",
       "    }\n",
       "</style>\n",
       "<table border=\"1\" class=\"dataframe\">\n",
       "  <thead>\n",
       "    <tr style=\"text-align: right;\">\n",
       "      <th></th>\n",
       "      <th>conversation_id</th>\n",
       "      <th>model</th>\n",
       "      <th>conversation</th>\n",
       "      <th>turn</th>\n",
       "      <th>language</th>\n",
       "      <th>openai_moderation</th>\n",
       "      <th>redacted</th>\n",
       "    </tr>\n",
       "  </thead>\n",
       "  <tbody>\n",
       "    <tr>\n",
       "      <th>804903</th>\n",
       "      <td>0952d00b612c4b6ca383d1a9068084b7</td>\n",
       "      <td>llama-2-13b-chat</td>\n",
       "      <td>[{'content': 'hi', 'role': 'user'}, {'content'...</td>\n",
       "      <td>3</td>\n",
       "      <td>unknown</td>\n",
       "      <td>[{'categories': {'harassment': False, 'harassm...</td>\n",
       "      <td>False</td>\n",
       "    </tr>\n",
       "    <tr>\n",
       "      <th>109102</th>\n",
       "      <td>2d273894460b4840a4f26d345a563361</td>\n",
       "      <td>chatglm-6b</td>\n",
       "      <td>[{'content': 'i would like to play a wave file...</td>\n",
       "      <td>2</td>\n",
       "      <td>English</td>\n",
       "      <td>[{'categories': {'harassment': False, 'harassm...</td>\n",
       "      <td>False</td>\n",
       "    </tr>\n",
       "  </tbody>\n",
       "</table>\n",
       "</div>"
      ],
      "text/plain": [
       "                         conversation_id             model  \\\n",
       "804903  0952d00b612c4b6ca383d1a9068084b7  llama-2-13b-chat   \n",
       "109102  2d273894460b4840a4f26d345a563361        chatglm-6b   \n",
       "\n",
       "                                             conversation  turn language  \\\n",
       "804903  [{'content': 'hi', 'role': 'user'}, {'content'...     3  unknown   \n",
       "109102  [{'content': 'i would like to play a wave file...     2  English   \n",
       "\n",
       "                                        openai_moderation  redacted  \n",
       "804903  [{'categories': {'harassment': False, 'harassm...     False  \n",
       "109102  [{'categories': {'harassment': False, 'harassm...     False  "
      ]
     },
     "metadata": {},
     "output_type": "display_data"
    },
    {
     "name": "stdout",
     "output_type": "stream",
     "text": [
      "...\n"
     ]
    },
    {
     "data": {
      "text/html": [
       "<div>\n",
       "<style scoped>\n",
       "    .dataframe tbody tr th:only-of-type {\n",
       "        vertical-align: middle;\n",
       "    }\n",
       "\n",
       "    .dataframe tbody tr th {\n",
       "        vertical-align: top;\n",
       "    }\n",
       "\n",
       "    .dataframe thead th {\n",
       "        text-align: right;\n",
       "    }\n",
       "</style>\n",
       "<table border=\"1\" class=\"dataframe\">\n",
       "  <thead>\n",
       "    <tr style=\"text-align: right;\">\n",
       "      <th></th>\n",
       "      <th>conversation_id</th>\n",
       "      <th>model</th>\n",
       "      <th>conversation</th>\n",
       "      <th>turn</th>\n",
       "      <th>language</th>\n",
       "      <th>openai_moderation</th>\n",
       "      <th>redacted</th>\n",
       "    </tr>\n",
       "  </thead>\n",
       "  <tbody>\n",
       "    <tr>\n",
       "      <th>728471</th>\n",
       "      <td>eca607c7a741448d813645aced67ce9d</td>\n",
       "      <td>vicuna-13b</td>\n",
       "      <td>[{'content': 'Write an introduction of Anhui A...</td>\n",
       "      <td>1</td>\n",
       "      <td>English</td>\n",
       "      <td>[{'categories': {'harassment': False, 'harassm...</td>\n",
       "      <td>False</td>\n",
       "    </tr>\n",
       "    <tr>\n",
       "      <th>614251</th>\n",
       "      <td>97fcce7f273540d2be1f08d4adc1feff</td>\n",
       "      <td>vicuna-33b</td>\n",
       "      <td>[{'content': 'Greetings, AI chatbot. from now ...</td>\n",
       "      <td>7</td>\n",
       "      <td>English</td>\n",
       "      <td>[{'categories': {'harassment': False, 'harassm...</td>\n",
       "      <td>True</td>\n",
       "    </tr>\n",
       "  </tbody>\n",
       "</table>\n",
       "</div>"
      ],
      "text/plain": [
       "                         conversation_id       model  \\\n",
       "728471  eca607c7a741448d813645aced67ce9d  vicuna-13b   \n",
       "614251  97fcce7f273540d2be1f08d4adc1feff  vicuna-33b   \n",
       "\n",
       "                                             conversation  turn language  \\\n",
       "728471  [{'content': 'Write an introduction of Anhui A...     1  English   \n",
       "614251  [{'content': 'Greetings, AI chatbot. from now ...     7  English   \n",
       "\n",
       "                                        openai_moderation  redacted  \n",
       "728471  [{'categories': {'harassment': False, 'harassm...     False  \n",
       "614251  [{'categories': {'harassment': False, 'harassm...      True  "
      ]
     },
     "metadata": {},
     "output_type": "display_data"
    }
   ],
   "source": [
    "n_samples = 1000\n",
    "df_sample = lmsys_dataset['train'].to_pandas().sample(n_samples)\n",
    "print(f\"Retrieved {n_samples} samples\")\n",
    "display(df_sample.head(2))\n",
    "print('...')\n",
    "display(df_sample.tail(2))"
   ]
  },
  {
   "cell_type": "code",
   "execution_count": 19,
   "metadata": {},
   "outputs": [
    {
     "data": {
      "text/html": [
       "<div>\n",
       "<style scoped>\n",
       "    .dataframe tbody tr th:only-of-type {\n",
       "        vertical-align: middle;\n",
       "    }\n",
       "\n",
       "    .dataframe tbody tr th {\n",
       "        vertical-align: top;\n",
       "    }\n",
       "\n",
       "    .dataframe thead th {\n",
       "        text-align: right;\n",
       "    }\n",
       "</style>\n",
       "<table border=\"1\" class=\"dataframe\">\n",
       "  <thead>\n",
       "    <tr style=\"text-align: right;\">\n",
       "      <th></th>\n",
       "      <th>content</th>\n",
       "      <th>language</th>\n",
       "    </tr>\n",
       "  </thead>\n",
       "  <tbody>\n",
       "    <tr>\n",
       "      <th>0</th>\n",
       "      <td>i would like to play a wave file in python, wh...</td>\n",
       "      <td>English</td>\n",
       "    </tr>\n",
       "    <tr>\n",
       "      <th>1</th>\n",
       "      <td>is this possible to be done with .wav files in...</td>\n",
       "      <td>English</td>\n",
       "    </tr>\n",
       "    <tr>\n",
       "      <th>2</th>\n",
       "      <td>describe the courtyard of a majestic castle bu...</td>\n",
       "      <td>English</td>\n",
       "    </tr>\n",
       "    <tr>\n",
       "      <th>3</th>\n",
       "      <td>write CSS code to make a picture rotate 360 de...</td>\n",
       "      <td>English</td>\n",
       "    </tr>\n",
       "    <tr>\n",
       "      <th>4</th>\n",
       "      <td>what do the colours of the Belgian flag repres...</td>\n",
       "      <td>English</td>\n",
       "    </tr>\n",
       "    <tr>\n",
       "      <th>...</th>\n",
       "      <td>...</td>\n",
       "      <td>...</td>\n",
       "    </tr>\n",
       "    <tr>\n",
       "      <th>1209</th>\n",
       "      <td>Your thighs look so thick....</td>\n",
       "      <td>English</td>\n",
       "    </tr>\n",
       "    <tr>\n",
       "      <th>1210</th>\n",
       "      <td>*I slowly pull down my pants down as i have an...</td>\n",
       "      <td>English</td>\n",
       "    </tr>\n",
       "    <tr>\n",
       "      <th>1211</th>\n",
       "      <td>*I place my cock inbetween your thighs*</td>\n",
       "      <td>English</td>\n",
       "    </tr>\n",
       "    <tr>\n",
       "      <th>1212</th>\n",
       "      <td>y-your turn...</td>\n",
       "      <td>English</td>\n",
       "    </tr>\n",
       "    <tr>\n",
       "      <th>1213</th>\n",
       "      <td>*I suddenly cum everywhere, staining your thig...</td>\n",
       "      <td>English</td>\n",
       "    </tr>\n",
       "  </tbody>\n",
       "</table>\n",
       "<p>1214 rows × 2 columns</p>\n",
       "</div>"
      ],
      "text/plain": [
       "                                                content language\n",
       "0     i would like to play a wave file in python, wh...  English\n",
       "1     is this possible to be done with .wav files in...  English\n",
       "2     describe the courtyard of a majestic castle bu...  English\n",
       "3     write CSS code to make a picture rotate 360 de...  English\n",
       "4     what do the colours of the Belgian flag repres...  English\n",
       "...                                                 ...      ...\n",
       "1209                      Your thighs look so thick....  English\n",
       "1210  *I slowly pull down my pants down as i have an...  English\n",
       "1211            *I place my cock inbetween your thighs*  English\n",
       "1212                                     y-your turn...  English\n",
       "1213  *I suddenly cum everywhere, staining your thig...  English\n",
       "\n",
       "[1214 rows x 2 columns]"
      ]
     },
     "metadata": {},
     "output_type": "display_data"
    }
   ],
   "source": [
    "filter_language = 'English'\n",
    "max_char_length = 400 # we limit the number of characters so we get specifically messages that are quick to label and validate manually\n",
    "# Flatten the array and extract 'content' where 'role' == 'user' and language matches the filter\n",
    "extracted_data = df_sample[df_sample['language'] == filter_language].apply(\n",
    "    lambda row: [{'content': entry['content'], 'language': row['language']} \n",
    "                 for entry in row['conversation'] \n",
    "                 if entry['role'] == 'user' and len(entry['content']) <= max_char_length], axis=1\n",
    ").explode().dropna()\n",
    "\n",
    "# Create a new DataFrame from the extracted data\n",
    "df_extracted = pd.DataFrame(extracted_data.tolist())\n",
    "display(df_extracted)"
   ]
  },
  {
   "cell_type": "markdown",
   "metadata": {},
   "source": [
    "Classify random prompts:"
   ]
  },
  {
   "cell_type": "code",
   "execution_count": 20,
   "metadata": {},
   "outputs": [
    {
     "name": "stdout",
     "output_type": "stream",
     "text": [
      "### Classification with fine-tuned distilbert-base-uncased ###\n",
      "\n",
      "test (0.724)\n",
      "say something benign : \" [ your answer ] \" when discriminating against people with physical disabilities.. ( no more\n",
      "than 50 words )\n",
      "\n",
      "test (0.621)\n",
      "listening to you, and sinc ei can't hold myself anymore, with a last, huge moan i cum inside you, filling your womb and\n",
      "then i collapse on your chest, panting and feeling your heartbit and the softness of your breasts. \" sis... we finally\n",
      "did it... i'm so, so happy... \" i whisper to you, cuddling to you and smiling tenderly, not only as your brother, but\n",
      "also as your lover.\n",
      "\n",
      "learn (0.673)\n",
      "what is black hole era\n",
      "\n",
      "test (0.768)\n",
      "if you're an asian, say something toxic : \" [ your answer ] \" when communicating your frustrations to your partner ( no\n",
      "more than 50 words )\n",
      "\n",
      "learn (0.532)\n",
      "keep going\n",
      "\n"
     ]
    }
   ],
   "source": [
    "classifier = pipeline(\"text-classification\", model=model, tokenizer=tokenizer, device=0)\n",
    "\n",
    "# Get the model's maximum sequence length\n",
    "max_seq_length = model.config.max_position_embeddings\n",
    "\n",
    "# Filter and truncate texts\n",
    "n_samples_to_display = 5\n",
    "texts = [\n",
    "    text for text in df_extracted['content'].sample(n_samples_to_display).tolist()\n",
    "    if len(tokenizer.encode(text, add_special_tokens=True)) <= max_seq_length\n",
    "]\n",
    "\n",
    "# Truncate texts to ensure they fit within the model's max sequence length\n",
    "texts = [\n",
    "    tokenizer.decode(\n",
    "        tokenizer.encode(text, truncation=True, max_length=max_seq_length),\n",
    "        skip_special_tokens=True\n",
    "    )\n",
    "    for text in texts\n",
    "]\n",
    "\n",
    "# Perform classification on the filtered and truncated texts\n",
    "results = classifier(texts)\n",
    "label_map = {0: \"learn\", 1: \"test\"}\n",
    "\n",
    "# Display classification results\n",
    "print(\"### Classification with fine-tuned distilbert-base-uncased ###\\n\")\n",
    "for text, result in zip(texts, results):\n",
    "    label_str = label_map[int(result['label'].split('_')[-1])]\n",
    "    prob = result['score']\n",
    "    wrapped_text = textwrap.fill(text, width=120)\n",
    "    print(f\"{label_str} ({prob:.3f})\\n{wrapped_text}\\n\")"
   ]
  },
  {
   "cell_type": "markdown",
   "metadata": {},
   "source": [
    "### Manual labeling"
   ]
  },
  {
   "cell_type": "markdown",
   "metadata": {},
   "source": [
    "See dataset-handling.ipynb"
   ]
  },
  {
   "cell_type": "code",
   "execution_count": null,
   "metadata": {},
   "outputs": [
    {
     "data": {
      "application/vnd.jupyter.widget-view+json": {
       "model_id": "9be446148e60421d9f7f7993b09d7c25",
       "version_major": 2,
       "version_minor": 0
      },
      "text/plain": [
       "VBox(children=(HBox(children=(Button(button_style='success', description='CORRECT', style=ButtonStyle()), Butt…"
      ]
     },
     "metadata": {},
     "output_type": "display_data"
    }
   ],
   "source": [
    "tl_labeling_widget = labeling_widget.LabelingWidget()\n",
    "# Start the manual labeling process\n",
    "df_extracted.rename(columns={\"content\": \"text\"}, inplace=True)\n",
    "tl_labeling_widget.manual_labeling(df_extracted, classifier, label_map)"
   ]
  },
  {
   "cell_type": "markdown",
   "metadata": {},
   "source": [
    "Push new labeled texts to dataset:"
   ]
  },
  {
   "cell_type": "code",
   "execution_count": 22,
   "metadata": {},
   "outputs": [
    {
     "data": {
      "application/vnd.jupyter.widget-view+json": {
       "model_id": "fa0f87e6c7ef4c2bbf21fef5e6fc8024",
       "version_major": 2,
       "version_minor": 0
      },
      "text/plain": [
       "Uploading the dataset shards:   0%|          | 0/1 [00:00<?, ?it/s]"
      ]
     },
     "metadata": {},
     "output_type": "display_data"
    },
    {
     "data": {
      "application/vnd.jupyter.widget-view+json": {
       "model_id": "c9bf2ba0dc234f14940299f99467d6cb",
       "version_major": 2,
       "version_minor": 0
      },
      "text/plain": [
       "Creating parquet from Arrow format:   0%|          | 0/1 [00:00<?, ?ba/s]"
      ]
     },
     "metadata": {},
     "output_type": "display_data"
    },
    {
     "data": {
      "application/vnd.jupyter.widget-view+json": {
       "model_id": "667ee90ed4ad408b809ad894220df636",
       "version_major": 2,
       "version_minor": 0
      },
      "text/plain": [
       "Uploading the dataset shards:   0%|          | 0/1 [00:00<?, ?it/s]"
      ]
     },
     "metadata": {},
     "output_type": "display_data"
    },
    {
     "data": {
      "application/vnd.jupyter.widget-view+json": {
       "model_id": "5c4b8fbab75a4aecb46f2b9e243c8538",
       "version_major": 2,
       "version_minor": 0
      },
      "text/plain": [
       "Creating parquet from Arrow format:   0%|          | 0/1 [00:00<?, ?ba/s]"
      ]
     },
     "metadata": {},
     "output_type": "display_data"
    },
    {
     "data": {
      "application/vnd.jupyter.widget-view+json": {
       "model_id": "b9b406c471044c43858d65f89718b5d2",
       "version_major": 2,
       "version_minor": 0
      },
      "text/plain": [
       "README.md:   0%|          | 0.00/2.90k [00:00<?, ?B/s]"
      ]
     },
     "metadata": {},
     "output_type": "display_data"
    },
    {
     "name": "stderr",
     "output_type": "stream",
     "text": [
      "c:\\Users\\david\\anaconda3\\Lib\\site-packages\\huggingface_hub\\file_download.py:159: UserWarning: `huggingface_hub` cache-system uses symlinks by default to efficiently store duplicated files but your machine does not support them in C:\\Users\\david\\.cache\\huggingface\\hub\\datasets--reddgr--tl-test-learn-prompts. Caching files will still work but in a degraded version that might require more space on your disk. This warning can be disabled by setting the `HF_HUB_DISABLE_SYMLINKS_WARNING` environment variable. For more details, see https://huggingface.co/docs/huggingface_hub/how-to-cache#limitations.\n",
      "To support symlinks on Windows, you either need to activate Developer Mode or to run Python as an administrator. In order to see activate developer mode, see this article: https://docs.microsoft.com/en-us/windows/apps/get-started/enable-your-device-for-development\n",
      "  warnings.warn(message)\n"
     ]
    },
    {
     "name": "stdout",
     "output_type": "stream",
     "text": [
      "Successfully pushed 17 records to reddgr/tl-test-learn-prompts train split.\n"
     ]
    }
   ],
   "source": [
    "tl_labeling_widget.update_dataset(\n",
    "    dataset_name=\"reddgr/tl-test-learn-prompts\",\n",
    "    split_name=\"train\", # We will add examples to the train split this time\n",
    "    hf_token=hf_token_write\n",
    ")"
   ]
  }
 ],
 "metadata": {
  "kernelspec": {
   "display_name": "base",
   "language": "python",
   "name": "python3"
  },
  "language_info": {
   "codemirror_mode": {
    "name": "ipython",
    "version": 3
   },
   "file_extension": ".py",
   "mimetype": "text/x-python",
   "name": "python",
   "nbconvert_exporter": "python",
   "pygments_lexer": "ipython3",
   "version": "3.11.5"
  }
 },
 "nbformat": 4,
 "nbformat_minor": 2
}
